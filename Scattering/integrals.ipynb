{
 "cells": [
  {
   "cell_type": "code",
   "execution_count": 2,
   "id": "595c06ca",
   "metadata": {},
   "outputs": [],
   "source": [
    "import sympy as sp\n",
    "import numpy as np"
   ]
  },
  {
   "cell_type": "code",
   "execution_count": 3,
   "id": "d2fb879d",
   "metadata": {},
   "outputs": [],
   "source": [
    "q, r, theta = sp.symbols('q r theta', real=True)"
   ]
  },
  {
   "cell_type": "code",
   "execution_count": 18,
   "id": "4e2e3c72",
   "metadata": {},
   "outputs": [
    {
     "data": {
      "text/latex": [
       "$\\displaystyle e^{i q r \\cos{\\left(\\theta \\right)}} \\sin{\\left(\\theta \\right)}$"
      ],
      "text/plain": [
       "exp(I*q*r*cos(theta))*sin(theta)"
      ]
     },
     "execution_count": 18,
     "metadata": {},
     "output_type": "execute_result"
    }
   ],
   "source": [
    "sp.exp(sp.I*q*r*sp.cos(theta))*sp.sin(theta)"
   ]
  },
  {
   "cell_type": "code",
   "execution_count": 4,
   "id": "06ba87d1",
   "metadata": {},
   "outputs": [],
   "source": [
    "integral = sp.integrate(sp.exp(sp.I*q*r*sp.cos(theta))*sp.sin(theta),(theta,0,sp.pi))"
   ]
  },
  {
   "cell_type": "code",
   "execution_count": 5,
   "id": "f12abd88",
   "metadata": {},
   "outputs": [
    {
     "data": {
      "text/latex": [
       "$\\displaystyle \\begin{cases} \\frac{2 \\sin{\\left(q r \\right)}}{q r} & \\text{for}\\: q r \\neq 0 \\\\\\frac{\\operatorname{E}_{2}\\left(- \\frac{i q r}{2}\\right)}{2} + \\frac{\\operatorname{E}_{2}\\left(\\frac{i q r}{2}\\right)}{2} + 1 & \\text{for}\\: q = 0 \\vee r = 0 \\\\\\frac{\\operatorname{E}_{2}\\left(- \\frac{i q r}{2}\\right)}{2} + \\frac{\\operatorname{E}_{2}\\left(\\frac{i q r}{2}\\right)}{2} - \\frac{i e^{\\frac{i q r}{2}}}{q r} + \\frac{i e^{- \\frac{i q r}{2}}}{q r} & \\text{otherwise} \\end{cases}$"
      ],
      "text/plain": [
       "Piecewise((2*sin(q*r)/(q*r), Ne(q*r, 0)), (expint(2, -I*q*r/2)/2 + expint(2, I*q*r/2)/2 + 1, Eq(q, 0) | Eq(r, 0)), (expint(2, -I*q*r/2)/2 + expint(2, I*q*r/2)/2 - I*exp(I*q*r/2)/(q*r) + I*exp(-I*q*r/2)/(q*r), True))"
      ]
     },
     "execution_count": 5,
     "metadata": {},
     "output_type": "execute_result"
    }
   ],
   "source": [
    "integral.simplify()"
   ]
  },
  {
   "cell_type": "code",
   "execution_count": 9,
   "id": "e8c4e4bc",
   "metadata": {},
   "outputs": [
    {
     "data": {
      "text/latex": [
       "$\\displaystyle 2$"
      ],
      "text/plain": [
       "2"
      ]
     },
     "execution_count": 9,
     "metadata": {},
     "output_type": "execute_result"
    }
   ],
   "source": [
    "sp.limit(2*sp.sin(q)/(q),q,0)"
   ]
  },
  {
   "cell_type": "code",
   "execution_count": 10,
   "id": "be4422db",
   "metadata": {},
   "outputs": [],
   "source": [
    "R,alpha = sp.symbols('R alpha', real=True, positive=True)"
   ]
  },
  {
   "cell_type": "code",
   "execution_count": 11,
   "id": "f284296a",
   "metadata": {},
   "outputs": [
    {
     "data": {
      "text/latex": [
       "$\\displaystyle R + \\alpha \\log{\\left(1 + e^{- \\frac{R}{\\alpha}} \\right)}$"
      ],
      "text/plain": [
       "R + alpha*log(1 + exp(-R/alpha))"
      ]
     },
     "execution_count": 11,
     "metadata": {},
     "output_type": "execute_result"
    }
   ],
   "source": [
    "sp.integrate(1/(1 + sp.exp((r-R)/alpha)), (r,0,sp.oo))"
   ]
  },
  {
   "cell_type": "code",
   "execution_count": null,
   "id": "ac30de87",
   "metadata": {},
   "outputs": [],
   "source": []
  }
 ],
 "metadata": {
  "kernelspec": {
   "display_name": "dev",
   "language": "python",
   "name": "python3"
  },
  "language_info": {
   "codemirror_mode": {
    "name": "ipython",
    "version": 3
   },
   "file_extension": ".py",
   "mimetype": "text/x-python",
   "name": "python",
   "nbconvert_exporter": "python",
   "pygments_lexer": "ipython3",
   "version": "3.11.11"
  }
 },
 "nbformat": 4,
 "nbformat_minor": 5
}
